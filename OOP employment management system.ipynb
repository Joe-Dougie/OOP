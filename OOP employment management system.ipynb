{
 "cells": [
  {
   "cell_type": "code",
   "execution_count": 1,
   "id": "f3290fa8",
   "metadata": {},
   "outputs": [
    {
     "ename": "TypeError",
     "evalue": "employee() takes 2 positional arguments but 3 were given",
     "output_type": "error",
     "traceback": [
      "\u001b[1;31m---------------------------------------------------------------------------\u001b[0m",
      "\u001b[1;31mTypeError\u001b[0m                                 Traceback (most recent call last)",
      "\u001b[1;32m~\\AppData\\Local\\Temp/ipykernel_10496/3027332097.py\u001b[0m in \u001b[0;36m<module>\u001b[1;34m\u001b[0m\n\u001b[0;32m     19\u001b[0m     \u001b[0mself\u001b[0m\u001b[1;33m.\u001b[0m\u001b[0memail_address\u001b[0m \u001b[1;33m=\u001b[0m \u001b[0memail_address\u001b[0m\u001b[1;33m\u001b[0m\u001b[1;33m\u001b[0m\u001b[0m\n\u001b[0;32m     20\u001b[0m \u001b[1;33m\u001b[0m\u001b[0m\n\u001b[1;32m---> 21\u001b[1;33m \u001b[0memployee1\u001b[0m \u001b[1;33m=\u001b[0m \u001b[0memployee\u001b[0m\u001b[1;33m(\u001b[0m\u001b[1;34m\"Wade\"\u001b[0m\u001b[1;33m,\u001b[0m \u001b[1;34m\"Wilson\"\u001b[0m\u001b[1;33m,\u001b[0m \u001b[1;34m\"Deadpool\"\u001b[0m\u001b[1;33m)\u001b[0m\u001b[1;33m\u001b[0m\u001b[1;33m\u001b[0m\u001b[0m\n\u001b[0m\u001b[0;32m     22\u001b[0m \u001b[0memployee2\u001b[0m \u001b[1;33m=\u001b[0m \u001b[0memployee\u001b[0m\u001b[1;33m(\u001b[0m\u001b[1;34m\"Peter\"\u001b[0m\u001b[1;33m,\u001b[0m \u001b[1;34m\"Parker\"\u001b[0m\u001b[1;33m,\u001b[0m \u001b[1;34m\"Spiderman\"\u001b[0m\u001b[1;33m)\u001b[0m\u001b[1;33m\u001b[0m\u001b[1;33m\u001b[0m\u001b[0m\n\u001b[0;32m     23\u001b[0m \u001b[0memployee3\u001b[0m \u001b[1;33m=\u001b[0m \u001b[0memployee\u001b[0m\u001b[1;33m(\u001b[0m\u001b[1;34m\"Tony\"\u001b[0m\u001b[1;33m,\u001b[0m \u001b[1;34m\"Stark\"\u001b[0m\u001b[1;33m,\u001b[0m \u001b[1;34m\"Ironman\"\u001b[0m\u001b[1;33m)\u001b[0m\u001b[1;33m\u001b[0m\u001b[1;33m\u001b[0m\u001b[0m\n",
      "\u001b[1;31mTypeError\u001b[0m: employee() takes 2 positional arguments but 3 were given"
     ]
    }
   ],
   "source": [
    "class Manager:()\n",
    "    \n",
    "def employee(self, employee_add):\n",
    "    self.employee_add = employee\n",
    "\n",
    "def __init__(self, first_name, last_name, employee):\n",
    "        self.first_name = first_name\n",
    "        self.last_name = last_name\n",
    "        self.employees = []\n",
    "\n",
    "def add_employee(self, employee_obj):     \n",
    "    self.employee_obj = employee_obj\n",
    "\n",
    "def show_employees(self):\n",
    "    self.show_employees = show_employees\n",
    "\n",
    "def remove_employee(self, email_address):\n",
    "    self.email_address = email_address\n",
    "         \n",
    "employee1 = employee(\"Wade\", \"Wilson\", \"Deadpool\")\n",
    "employee2 = employee(\"Peter\", \"Parker\", \"Spiderman\")\n",
    "employee3 = employee(\"Tony\", \"Stark\", \"Ironman\")\n",
    "employee4 = employee(\"Natasha\", \"Romanoff\", \"Black Widow\")\n",
    "employee5 = employee(\"Clint\", \"Barton\", \"Hawkeye\")\n",
    "\n",
    "return (f'employee')\n"
   ]
  },
  {
   "cell_type": "markdown",
   "id": "d6da1e4e",
   "metadata": {},
   "source": []
  },
  {
   "cell_type": "code",
   "execution_count": null,
   "id": "554b6e06",
   "metadata": {},
   "outputs": [],
   "source": [
    "\n"
   ]
  }
 ],
 "metadata": {
  "kernelspec": {
   "display_name": "Python 3 (ipykernel)",
   "language": "python",
   "name": "python3"
  },
  "language_info": {
   "codemirror_mode": {
    "name": "ipython",
    "version": 3
   },
   "file_extension": ".py",
   "mimetype": "text/x-python",
   "name": "python",
   "nbconvert_exporter": "python",
   "pygments_lexer": "ipython3",
   "version": "3.9.7"
  }
 },
 "nbformat": 4,
 "nbformat_minor": 5
}
